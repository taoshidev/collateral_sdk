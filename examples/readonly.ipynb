{
 "cells": [
  {
   "cell_type": "code",
   "execution_count": null,
   "id": "4e706235",
   "metadata": {},
   "outputs": [],
   "source": [
    "from collateral_sdk import CollateralManager, Network"
   ]
  },
  {
   "cell_type": "markdown",
   "id": "64699841",
   "metadata": {},
   "source": [
    "## Preparation\n"
   ]
  },
  {
   "cell_type": "code",
   "execution_count": null,
   "id": "aad5dfe6",
   "metadata": {},
   "outputs": [],
   "source": [
    "manager = CollateralManager(Network.TESTNET)"
   ]
  },
  {
   "cell_type": "markdown",
   "id": "13476bdc",
   "metadata": {},
   "source": [
    "## Queries\n"
   ]
  },
  {
   "cell_type": "code",
   "execution_count": null,
   "id": "d7026610",
   "metadata": {},
   "outputs": [],
   "source": [
    "manager.balance_of(\"5HMqqW8VPs9uAcbheh6EAnGGKFoB3PSVJEgM3zcUCfum4qtr\")"
   ]
  },
  {
   "cell_type": "code",
   "execution_count": null,
   "id": "b916a899",
   "metadata": {},
   "outputs": [],
   "source": [
    "manager.get_slashed_collateral()"
   ]
  },
  {
   "cell_type": "code",
   "execution_count": null,
   "id": "09fe8b2d",
   "metadata": {},
   "outputs": [],
   "source": [
    "manager.get_total_collateral()"
   ]
  }
 ],
 "metadata": {
  "kernelspec": {
   "display_name": ".venv",
   "language": "python",
   "name": "python3"
  },
  "language_info": {
   "codemirror_mode": {
    "name": "ipython",
    "version": 3
   },
   "file_extension": ".py",
   "mimetype": "text/x-python",
   "name": "python",
   "nbconvert_exporter": "python",
   "pygments_lexer": "ipython3",
   "version": "3.10.17"
  }
 },
 "nbformat": 4,
 "nbformat_minor": 5
}
