{
 "cells": [
  {
   "cell_type": "code",
   "id": "69696b97",
   "metadata": {},
   "source": [
    "from bittensor_wallet import Wallet\n",
    "\n",
    "from collateral_sdk import CollateralManager, Network"
   ],
   "outputs": [],
   "execution_count": null
  },
  {
   "cell_type": "markdown",
   "id": "2cacad7d",
   "metadata": {},
   "source": [
    "## Preparation\n"
   ]
  },
  {
   "cell_type": "code",
   "id": "14989285",
   "metadata": {},
   "source": [
    "manager = CollateralManager(Network.TESTNET)"
   ],
   "outputs": [],
   "execution_count": null
  },
  {
   "cell_type": "markdown",
   "id": "4af6d8f5",
   "metadata": {},
   "source": [
    "#### On a miner side\n"
   ]
  },
  {
   "cell_type": "code",
   "id": "02ec853d",
   "metadata": {},
   "source": "miner_wallet = Wallet(name='wallet0', hotkey='miner0')",
   "outputs": [],
   "execution_count": null
  },
  {
   "cell_type": "code",
   "id": "95121f0d",
   "metadata": {},
   "source": [
    "# Check the current stakes.\n",
    "manager.subtensor_api.staking.get_stake_for_coldkey(miner_wallet.coldkeypub.ss58_address)"
   ],
   "outputs": [],
   "execution_count": null
  },
  {
   "cell_type": "code",
   "id": "1dc22f21",
   "metadata": {},
   "source": [
    "# Use the matching miner hotkey stake as the source stake.\n",
    "stake_list = manager.subtensor_api.staking.get_stake_for_coldkey(miner_wallet.coldkeypub.ss58_address)\n",
    "miner_hotkey = miner_wallet.hotkey.ss58_address\n",
    "miner_stake = next(\n",
    "    (stake for stake in stake_list if stake.hotkey_ss58 == miner_hotkey),\n",
    "    None\n",
    ")\n",
    "miner_stake"
   ],
   "outputs": [],
   "execution_count": null
  },
  {
   "cell_type": "markdown",
   "id": "28df7d6a",
   "metadata": {},
   "source": [
    "#### On a owner validator side\n"
   ]
  },
  {
   "cell_type": "code",
   "id": "582fb6cf",
   "metadata": {},
   "source": "vault_wallet = Wallet(name=\"vault\", hotkey='default')",
   "outputs": [],
   "execution_count": null
  },
  {
   "cell_type": "code",
   "id": "e5d39092",
   "metadata": {},
   "source": [
    "# Check the current stakes.\n",
    "manager.subtensor_api.staking.get_stake_for_coldkey(vault_wallet.coldkeypub.ss58_address)"
   ],
   "outputs": [],
   "execution_count": null
  },
  {
   "cell_type": "code",
   "id": "5f6c9b5d",
   "metadata": {},
   "source": [
    "# Use the matching vault hotkey stake as the vault stake\n",
    "stake_list = manager.subtensor_api.staking.get_stake_for_coldkey(vault_wallet.coldkeypub.ss58_address)\n",
    "vault_hotkey = vault_wallet.hotkey.ss58_address\n",
    "vault_stake = next(\n",
    "    (stake for stake in stake_list if stake.hotkey_ss58 == vault_hotkey),\n",
    "    None\n",
    ")\n",
    "vault_stake"
   ],
   "outputs": [],
   "execution_count": null
  },
  {
   "cell_type": "markdown",
   "id": "7cab0fdc",
   "metadata": {},
   "source": [
    "## Deposit\n"
   ]
  },
  {
   "cell_type": "markdown",
   "id": "e8f6a294",
   "metadata": {},
   "source": [
    "#### On a miner side\n"
   ]
  },
  {
   "cell_type": "code",
   "id": "60b13e1c",
   "metadata": {},
   "source": [
    "# Check the current deposit.\n",
    "manager.balance_of(miner_wallet.hotkey.ss58_address)"
   ],
   "outputs": [],
   "execution_count": null
  },
  {
   "cell_type": "code",
   "id": "eed8e51e",
   "metadata": {},
   "source": [
    "# Create an extrinsic for a stake transfer.\n",
    "validator_vault_coldkey = vault_wallet.coldkeypub.ss58_address\n",
    "extrinsic = manager.create_stake_transfer_extrinsic(\n",
    "    amount=10 * 10**9,\n",
    "    dest=validator_vault_coldkey,\n",
    "    source_stake=miner_stake.hotkey_ss58,\n",
    "    source_wallet=miner_wallet,\n",
    "    wallet_password=\"REPLACE_ME\"\n",
    ")\n",
    "extrinsic.value"
   ],
   "outputs": [],
   "execution_count": null
  },
  {
   "cell_type": "code",
   "id": "0620be86",
   "metadata": {},
   "source": [
    "# Now, we can encode the extrinsic and pass to the owner.\n",
    "encoded = manager.encode_extrinsic(extrinsic)"
   ],
   "outputs": [],
   "execution_count": null
  },
  {
   "cell_type": "markdown",
   "id": "437c5ecb",
   "metadata": {},
   "source": [
    "#### On a owner validator side\n"
   ]
  },
  {
   "metadata": {},
   "cell_type": "code",
   "source": [
    "# Now, we can decode the received extrinsic\n",
    "extrinsic = manager.decode_extrinsic(encoded)\n",
    "extrinsic"
   ],
   "id": "945f435c1706ed48",
   "outputs": [],
   "execution_count": null
  },
  {
   "cell_type": "code",
   "id": "aadc628b",
   "metadata": {},
   "source": [
    "miner_hotkey = miner_wallet.hotkey.ss58_address\n",
    "manager.deposit(\n",
    "    extrinsic,\n",
    "    sender=miner_hotkey,\n",
    "    vault_stake=vault_stake.hotkey_ss58,\n",
    "    vault_wallet=vault_wallet,\n",
    "    owner_address=\"REPLACE_ME\",\n",
    "    owner_private_key=\"REPLACE_ME\"\n",
    ")"
   ],
   "outputs": [],
   "execution_count": null
  },
  {
   "cell_type": "code",
   "id": "2ea72459",
   "metadata": {},
   "source": [
    "# Check the current deposit.\n",
    "manager.balance_of(miner_hotkey)"
   ],
   "outputs": [],
   "execution_count": null
  },
  {
   "cell_type": "code",
   "id": "8f27cf2c",
   "metadata": {},
   "source": [
    "# Check the current stakes.\n",
    "manager.subtensor_api.staking.get_stake_for_coldkey(miner_wallet.coldkeypub.ss58_address)"
   ],
   "outputs": [],
   "execution_count": null
  },
  {
   "cell_type": "code",
   "id": "071a06dc",
   "metadata": {},
   "source": [
    "# Check the current stakes of the vault wallet.\n",
    "manager.subtensor_api.staking.get_stake_for_coldkey(vault_wallet.coldkeypub.ss58_address)"
   ],
   "outputs": [],
   "execution_count": null
  },
  {
   "cell_type": "markdown",
   "id": "e8c4c032",
   "metadata": {},
   "source": "## Withdrawal\n"
  },
  {
   "cell_type": "markdown",
   "id": "a6832167",
   "metadata": {},
   "source": [
    "#### On a owner validator side\n"
   ]
  },
  {
   "cell_type": "code",
   "id": "1cec9085",
   "metadata": {},
   "source": [
    "manager.withdraw(\n",
    "    amount=5 * 10**9,\n",
    "    dest=miner_wallet.coldkeypub.ss58_address,\n",
    "    source_hotkey=miner_hotkey,\n",
    "    vault_stake=vault_stake.hotkey_ss58,\n",
    "    vault_wallet=vault_wallet,\n",
    "    owner_address=\"REPLACE_ME\",\n",
    "    owner_private_key=\"REPLACE_ME\",\n",
    ")"
   ],
   "outputs": [],
   "execution_count": null
  },
  {
   "cell_type": "code",
   "id": "bb87eabf",
   "metadata": {},
   "source": [
    "# Check the current deposit\n",
    "manager.balance_of(miner_wallet.hotkey.ss58_address)"
   ],
   "outputs": [],
   "execution_count": null
  },
  {
   "cell_type": "code",
   "id": "2df012e2",
   "metadata": {},
   "source": [
    "# Check the current stakes\n",
    "manager.subtensor_api.staking.get_stake_for_coldkey(miner_wallet.coldkeypub.ss58_address)"
   ],
   "outputs": [],
   "execution_count": null
  },
  {
   "cell_type": "code",
   "id": "50bf3ece",
   "metadata": {},
   "source": [
    "# Check the current stakes of the vault wallet\n",
    "manager.subtensor_api.staking.get_stake_for_coldkey(vault_wallet.coldkeypub.ss58_address)"
   ],
   "outputs": [],
   "execution_count": null
  }
 ],
 "metadata": {
  "kernelspec": {
   "display_name": ".venv",
   "language": "python",
   "name": "python3"
  },
  "language_info": {
   "codemirror_mode": {
    "name": "ipython",
    "version": 3
   },
   "file_extension": ".py",
   "mimetype": "text/x-python",
   "name": "python",
   "nbconvert_exporter": "python",
   "pygments_lexer": "ipython3",
   "version": "3.10.17"
  }
 },
 "nbformat": 4,
 "nbformat_minor": 5
}
