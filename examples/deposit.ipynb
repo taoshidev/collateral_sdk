{
 "cells": [
  {
   "cell_type": "code",
   "execution_count": null,
   "id": "69696b97",
   "metadata": {},
   "outputs": [],
   "source": [
    "from bittensor_wallet import Wallet\n",
    "\n",
    "from collateral_sdk import CollateralManager, Network"
   ]
  },
  {
   "cell_type": "markdown",
   "id": "2cacad7d",
   "metadata": {},
   "source": [
    "## Preparation\n"
   ]
  },
  {
   "cell_type": "code",
   "execution_count": null,
   "id": "14989285",
   "metadata": {},
   "outputs": [],
   "source": [
    "manager = CollateralManager(Network.TESTNET)"
   ]
  },
  {
   "cell_type": "markdown",
   "id": "4af6d8f5",
   "metadata": {},
   "source": [
    "#### On a miner side\n"
   ]
  },
  {
   "cell_type": "code",
   "execution_count": null,
   "id": "02ec853d",
   "metadata": {},
   "outputs": [],
   "source": [
    "wallet = Wallet()"
   ]
  },
  {
   "cell_type": "code",
   "execution_count": null,
   "id": "95121f0d",
   "metadata": {},
   "outputs": [],
   "source": [
    "# Check the current stakes.\n",
    "manager.subtensor_api.staking.get_stake_for_coldkey(wallet.coldkeypub.ss58_address)"
   ]
  },
  {
   "cell_type": "code",
   "execution_count": null,
   "id": "1dc22f21",
   "metadata": {},
   "outputs": [],
   "source": [
    "# Use the first stake as the source stake.\n",
    "source_stake = manager.subtensor_api.staking.get_stake_for_coldkey(wallet.coldkeypub.ss58_address)[0]  # pyright: ignore[reportIndexIssue]\n",
    "source_stake"
   ]
  },
  {
   "cell_type": "markdown",
   "id": "28df7d6a",
   "metadata": {},
   "source": [
    "#### On a owner validator side\n"
   ]
  },
  {
   "cell_type": "code",
   "execution_count": null,
   "id": "582fb6cf",
   "metadata": {},
   "outputs": [],
   "source": [
    "vault_wallet = Wallet(name=\"vault\")"
   ]
  },
  {
   "cell_type": "code",
   "execution_count": null,
   "id": "e5d39092",
   "metadata": {},
   "outputs": [],
   "source": [
    "# Check the current stakes.\n",
    "manager.subtensor_api.staking.get_stake_for_coldkey(vault_wallet.coldkeypub.ss58_address)"
   ]
  },
  {
   "cell_type": "code",
   "execution_count": null,
   "id": "5f6c9b5d",
   "metadata": {},
   "outputs": [],
   "source": [
    "# Use the same stake as the vault stake.\n",
    "vault_stake = source_stake"
   ]
  },
  {
   "cell_type": "markdown",
   "id": "7cab0fdc",
   "metadata": {},
   "source": [
    "## Deposit\n"
   ]
  },
  {
   "cell_type": "markdown",
   "id": "e8f6a294",
   "metadata": {},
   "source": [
    "#### On a miner side\n"
   ]
  },
  {
   "cell_type": "code",
   "execution_count": null,
   "id": "60b13e1c",
   "metadata": {},
   "outputs": [],
   "source": [
    "# Check the current deposit.\n",
    "manager.balance_of(wallet.coldkeypub.ss58_address)"
   ]
  },
  {
   "cell_type": "code",
   "execution_count": null,
   "id": "eed8e51e",
   "metadata": {},
   "outputs": [],
   "source": [
    "# Create an extrinsic for a stake transfer.\n",
    "extrinsic = manager.create_stake_transfer_extrinsic(\n",
    "    amount=10 * 10**9,\n",
    "    dest=vault_wallet.coldkeypub.ss58_address,\n",
    "    source_stake=source_stake.hotkey_ss58,\n",
    "    source_wallet=wallet,\n",
    ")\n",
    "extrinsic.value"
   ]
  },
  {
   "cell_type": "code",
   "execution_count": null,
   "id": "0620be86",
   "metadata": {},
   "outputs": [],
   "source": [
    "# Now, we can encode the extrinsic and pass to the owner.\n",
    "encoded = manager.encode_extrinsic(extrinsic)\n",
    "# extrinsic = manager.decode_extrinsic(encoded)"
   ]
  },
  {
   "cell_type": "markdown",
   "id": "437c5ecb",
   "metadata": {},
   "source": [
    "#### On a owner validator side\n"
   ]
  },
  {
   "cell_type": "code",
   "execution_count": null,
   "id": "aadc628b",
   "metadata": {},
   "outputs": [],
   "source": [
    "manager.deposit(\n",
    "    extrinsic,\n",
    "    owner_address=\"REPLACE_ME\",\n",
    "    owner_private_key=\"REPLACE_ME\",\n",
    "    vault_stake=vault_stake.hotkey_ss58,\n",
    "    vault_wallet=vault_wallet,\n",
    ")"
   ]
  },
  {
   "cell_type": "code",
   "execution_count": null,
   "id": "2ea72459",
   "metadata": {},
   "outputs": [],
   "source": [
    "# Check the current deposit.\n",
    "manager.balance_of(wallet.coldkeypub.ss58_address)"
   ]
  },
  {
   "cell_type": "code",
   "execution_count": null,
   "id": "8f27cf2c",
   "metadata": {},
   "outputs": [],
   "source": [
    "# Check the current stakes.\n",
    "manager.subtensor_api.staking.get_stake_for_coldkey(wallet.coldkeypub.ss58_address)"
   ]
  },
  {
   "cell_type": "code",
   "execution_count": null,
   "id": "071a06dc",
   "metadata": {},
   "outputs": [],
   "source": [
    "# Check the current stakes of the vault wallet.\n",
    "manager.subtensor_api.staking.get_stake_for_coldkey(vault_wallet.coldkeypub.ss58_address)"
   ]
  },
  {
   "cell_type": "markdown",
   "id": "e8c4c032",
   "metadata": {},
   "source": [
    "## Withdrawl\n"
   ]
  },
  {
   "cell_type": "markdown",
   "id": "a6832167",
   "metadata": {},
   "source": [
    "#### On a owner validator side\n"
   ]
  },
  {
   "cell_type": "code",
   "execution_count": null,
   "id": "1cec9085",
   "metadata": {},
   "outputs": [],
   "source": [
    "manager.withdraw(\n",
    "    5 * 10**9,\n",
    "    dest=wallet.coldkeypub.ss58_address,\n",
    "    owner_address=\"REPLACE_ME\",\n",
    "    owner_private_key=\"REPLACE_ME\",\n",
    "    vault_stake=vault_stake.hotkey_ss58,\n",
    "    vault_wallet=vault_wallet,\n",
    ")"
   ]
  },
  {
   "cell_type": "code",
   "execution_count": null,
   "id": "bb87eabf",
   "metadata": {},
   "outputs": [],
   "source": [
    "# Check the current deposit\n",
    "manager.balance_of(wallet.coldkeypub.ss58_address)"
   ]
  },
  {
   "cell_type": "code",
   "execution_count": null,
   "id": "2df012e2",
   "metadata": {},
   "outputs": [],
   "source": [
    "# Check the current stakes\n",
    "manager.subtensor_api.staking.get_stake_for_coldkey(wallet.coldkeypub.ss58_address)"
   ]
  },
  {
   "cell_type": "code",
   "execution_count": null,
   "id": "50bf3ece",
   "metadata": {},
   "outputs": [],
   "source": [
    "# Check the current stakes of the vault wallet\n",
    "manager.subtensor_api.staking.get_stake_for_coldkey(vault_wallet.coldkeypub.ss58_address)"
   ]
  }
 ],
 "metadata": {
  "kernelspec": {
   "display_name": ".venv",
   "language": "python",
   "name": "python3"
  },
  "language_info": {
   "codemirror_mode": {
    "name": "ipython",
    "version": 3
   },
   "file_extension": ".py",
   "mimetype": "text/x-python",
   "name": "python",
   "nbconvert_exporter": "python",
   "pygments_lexer": "ipython3",
   "version": "3.10.17"
  }
 },
 "nbformat": 4,
 "nbformat_minor": 5
}
